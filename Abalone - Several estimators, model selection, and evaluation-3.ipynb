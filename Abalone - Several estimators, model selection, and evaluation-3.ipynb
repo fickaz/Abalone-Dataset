{
 "cells": [
  {
   "cell_type": "markdown",
   "metadata": {},
   "source": [
    "In this notebook we will look at recursive feature elimination with cross validation (RFECV). We will also take another look at Random Forest model. "
   ]
  },
  {
   "cell_type": "code",
   "execution_count": 1,
   "metadata": {
    "collapsed": true
   },
   "outputs": [],
   "source": [
    "import numpy as np\n",
    "import matplotlib.pyplot as plt\n",
    "import pandas as pd\n",
    "\n",
    "%matplotlib inline"
   ]
  },
  {
   "cell_type": "code",
   "execution_count": 2,
   "metadata": {
    "collapsed": false
   },
   "outputs": [
    {
     "name": "stdout",
     "output_type": "stream",
     "text": [
      "  Sex  Length  Diameter  Height  Whole Weight  Shucked Weight  \\\n",
      "0   M   0.455     0.365   0.095        0.5140          0.2245   \n",
      "1   M   0.350     0.265   0.090        0.2255          0.0995   \n",
      "2   F   0.530     0.420   0.135        0.6770          0.2565   \n",
      "3   M   0.440     0.365   0.125        0.5160          0.2155   \n",
      "4   I   0.330     0.255   0.080        0.2050          0.0895   \n",
      "\n",
      "    Viscera Weight  Shell Weight  Ring  \n",
      "0           0.1010         0.150    15  \n",
      "1           0.0485         0.070     7  \n",
      "2           0.1415         0.210     9  \n",
      "3           0.1140         0.155    10  \n",
      "4           0.0395         0.055     7  \n",
      "     Sex  Length  Diameter  Height  Whole Weight  Shucked Weight  \\\n",
      "4172   F   0.565     0.450   0.165        0.8870          0.3700   \n",
      "4173   M   0.590     0.440   0.135        0.9660          0.4390   \n",
      "4174   M   0.600     0.475   0.205        1.1760          0.5255   \n",
      "4175   F   0.625     0.485   0.150        1.0945          0.5310   \n",
      "4176   M   0.710     0.555   0.195        1.9485          0.9455   \n",
      "\n",
      "       Viscera Weight  Shell Weight  Ring  \n",
      "4172           0.2390        0.2490    11  \n",
      "4173           0.2145        0.2605    10  \n",
      "4174           0.2875        0.3080     9  \n",
      "4175           0.2610        0.2960    10  \n",
      "4176           0.3765        0.4950    12  \n"
     ]
    }
   ],
   "source": [
    "abalone = pd.read_csv(\"abalone.data\", header=None)\n",
    "abalone.columns = ['Sex', 'Length', 'Diameter', 'Height',\n",
    "                  'Whole Weight', 'Shucked Weight', ' Viscera Weight',\n",
    "                  'Shell Weight', 'Ring']\n",
    "print(abalone.head())\n",
    "print(abalone.tail())"
   ]
  },
  {
   "cell_type": "code",
   "execution_count": 3,
   "metadata": {
    "collapsed": false
   },
   "outputs": [
    {
     "name": "stdout",
     "output_type": "stream",
     "text": [
      "   Sex  Length  Diameter  Height  Whole Weight  Shucked Weight  \\\n",
      "0    0   0.455     0.365   0.095        0.5140          0.2245   \n",
      "1    0   0.350     0.265   0.090        0.2255          0.0995   \n",
      "2    1   0.530     0.420   0.135        0.6770          0.2565   \n",
      "3    0   0.440     0.365   0.125        0.5160          0.2155   \n",
      "4    2   0.330     0.255   0.080        0.2050          0.0895   \n",
      "\n",
      "    Viscera Weight  Shell Weight  Ring  \n",
      "0           0.1010         0.150    15  \n",
      "1           0.0485         0.070     7  \n",
      "2           0.1415         0.210     9  \n",
      "3           0.1140         0.155    10  \n",
      "4           0.0395         0.055     7  \n"
     ]
    }
   ],
   "source": [
    "#We have to change the sex, which is a categorical value, \n",
    "#to numeric value 0 and 1\n",
    "\n",
    "abalone['Sex'].replace(['M', 'F', 'I'],[0,1,2], inplace=True)\n",
    "print(abalone.head())\n"
   ]
  },
  {
   "cell_type": "code",
   "execution_count": 4,
   "metadata": {
    "collapsed": false
   },
   "outputs": [
    {
     "name": "stdout",
     "output_type": "stream",
     "text": [
      "   Sex  Length  Diameter  Height  Whole Weight  Shucked Weight  \\\n",
      "0    0   0.455     0.365   0.095        0.5140          0.2245   \n",
      "1    0   0.350     0.265   0.090        0.2255          0.0995   \n",
      "2    1   0.530     0.420   0.135        0.6770          0.2565   \n",
      "3    0   0.440     0.365   0.125        0.5160          0.2155   \n",
      "4    2   0.330     0.255   0.080        0.2050          0.0895   \n",
      "\n",
      "    Viscera Weight  Shell Weight  \n",
      "0           0.1010         0.150  \n",
      "1           0.0485         0.070  \n",
      "2           0.1415         0.210  \n",
      "3           0.1140         0.155  \n",
      "4           0.0395         0.055  \n",
      "   Ring\n",
      "0    15\n",
      "1     7\n",
      "2     9\n",
      "3    10\n",
      "4     7\n"
     ]
    }
   ],
   "source": [
    "# Attribute and target split\n",
    "X = abalone.drop(['Ring'], axis=1)\n",
    "y = abalone[['Ring']]\n",
    "print(X.head())\n",
    "print(y.head())"
   ]
  },
  {
   "cell_type": "code",
   "execution_count": 5,
   "metadata": {
    "collapsed": false
   },
   "outputs": [
    {
     "name": "stdout",
     "output_type": "stream",
     "text": [
      "      Sex  Length  Diameter  Height  Whole Weight  Shucked Weight  \\\n",
      "0       0   0.455     0.365   0.095        0.5140          0.2245   \n",
      "1       0   0.350     0.265   0.090        0.2255          0.0995   \n",
      "2       1   0.530     0.420   0.135        0.6770          0.2565   \n",
      "3       0   0.440     0.365   0.125        0.5160          0.2155   \n",
      "4       2   0.330     0.255   0.080        0.2050          0.0895   \n",
      "5       2   0.425     0.300   0.095        0.3515          0.1410   \n",
      "6       1   0.530     0.415   0.150        0.7775          0.2370   \n",
      "7       1   0.545     0.425   0.125        0.7680          0.2940   \n",
      "8       0   0.475     0.370   0.125        0.5095          0.2165   \n",
      "9       1   0.550     0.440   0.150        0.8945          0.3145   \n",
      "10      1   0.525     0.380   0.140        0.6065          0.1940   \n",
      "11      0   0.430     0.350   0.110        0.4060          0.1675   \n",
      "12      0   0.490     0.380   0.135        0.5415          0.2175   \n",
      "13      1   0.535     0.405   0.145        0.6845          0.2725   \n",
      "14      1   0.470     0.355   0.100        0.4755          0.1675   \n",
      "15      0   0.500     0.400   0.130        0.6645          0.2580   \n",
      "16      2   0.355     0.280   0.085        0.2905          0.0950   \n",
      "17      1   0.440     0.340   0.100        0.4510          0.1880   \n",
      "18      0   0.365     0.295   0.080        0.2555          0.0970   \n",
      "19      0   0.450     0.320   0.100        0.3810          0.1705   \n",
      "20      0   0.355     0.280   0.095        0.2455          0.0955   \n",
      "21      2   0.380     0.275   0.100        0.2255          0.0800   \n",
      "22      1   0.565     0.440   0.155        0.9395          0.4275   \n",
      "23      1   0.550     0.415   0.135        0.7635          0.3180   \n",
      "24      1   0.615     0.480   0.165        1.1615          0.5130   \n",
      "25      1   0.560     0.440   0.140        0.9285          0.3825   \n",
      "26      1   0.580     0.450   0.185        0.9955          0.3945   \n",
      "27      0   0.590     0.445   0.140        0.9310          0.3560   \n",
      "28      0   0.605     0.475   0.180        0.9365          0.3940   \n",
      "29      0   0.575     0.425   0.140        0.8635          0.3930   \n",
      "...   ...     ...       ...     ...           ...             ...   \n",
      "4147    0   0.695     0.550   0.195        1.6645          0.7270   \n",
      "4148    0   0.770     0.605   0.175        2.0505          0.8005   \n",
      "4149    2   0.280     0.215   0.070        0.1240          0.0630   \n",
      "4150    2   0.330     0.230   0.080        0.1400          0.0565   \n",
      "4151    2   0.350     0.250   0.075        0.1695          0.0835   \n",
      "4152    2   0.370     0.280   0.090        0.2180          0.0995   \n",
      "4153    2   0.430     0.315   0.115        0.3840          0.1885   \n",
      "4154    2   0.435     0.330   0.095        0.3930          0.2190   \n",
      "4155    2   0.440     0.350   0.110        0.3805          0.1575   \n",
      "4156    0   0.475     0.370   0.110        0.4895          0.2185   \n",
      "4157    0   0.475     0.360   0.140        0.5135          0.2410   \n",
      "4158    2   0.480     0.355   0.110        0.4495          0.2010   \n",
      "4159    1   0.560     0.440   0.135        0.8025          0.3500   \n",
      "4160    1   0.585     0.475   0.165        1.0530          0.4580   \n",
      "4161    1   0.585     0.455   0.170        0.9945          0.4255   \n",
      "4162    0   0.385     0.255   0.100        0.3175          0.1370   \n",
      "4163    2   0.390     0.310   0.085        0.3440          0.1810   \n",
      "4164    2   0.390     0.290   0.100        0.2845          0.1255   \n",
      "4165    2   0.405     0.300   0.085        0.3035          0.1500   \n",
      "4166    2   0.475     0.365   0.115        0.4990          0.2320   \n",
      "4167    0   0.500     0.380   0.125        0.5770          0.2690   \n",
      "4168    1   0.515     0.400   0.125        0.6150          0.2865   \n",
      "4169    0   0.520     0.385   0.165        0.7910          0.3750   \n",
      "4170    0   0.550     0.430   0.130        0.8395          0.3155   \n",
      "4171    0   0.560     0.430   0.155        0.8675          0.4000   \n",
      "4172    1   0.565     0.450   0.165        0.8870          0.3700   \n",
      "4173    0   0.590     0.440   0.135        0.9660          0.4390   \n",
      "4174    0   0.600     0.475   0.205        1.1760          0.5255   \n",
      "4175    1   0.625     0.485   0.150        1.0945          0.5310   \n",
      "4176    0   0.710     0.555   0.195        1.9485          0.9455   \n",
      "\n",
      "       Viscera Weight  Shell Weight  \n",
      "0              0.1010        0.1500  \n",
      "1              0.0485        0.0700  \n",
      "2              0.1415        0.2100  \n",
      "3              0.1140        0.1550  \n",
      "4              0.0395        0.0550  \n",
      "5              0.0775        0.1200  \n",
      "6              0.1415        0.3300  \n",
      "7              0.1495        0.2600  \n",
      "8              0.1125        0.1650  \n",
      "9              0.1510        0.3200  \n",
      "10             0.1475        0.2100  \n",
      "11             0.0810        0.1350  \n",
      "12             0.0950        0.1900  \n",
      "13             0.1710        0.2050  \n",
      "14             0.0805        0.1850  \n",
      "15             0.1330        0.2400  \n",
      "16             0.0395        0.1150  \n",
      "17             0.0870        0.1300  \n",
      "18             0.0430        0.1000  \n",
      "19             0.0750        0.1150  \n",
      "20             0.0620        0.0750  \n",
      "21             0.0490        0.0850  \n",
      "22             0.2140        0.2700  \n",
      "23             0.2100        0.2000  \n",
      "24             0.3010        0.3050  \n",
      "25             0.1880        0.3000  \n",
      "26             0.2720        0.2850  \n",
      "27             0.2340        0.2800  \n",
      "28             0.2190        0.2950  \n",
      "29             0.2270        0.2000  \n",
      "...               ...           ...  \n",
      "4147           0.3600        0.4450  \n",
      "4148           0.5260        0.3550  \n",
      "4149           0.0215        0.0300  \n",
      "4150           0.0365        0.0460  \n",
      "4151           0.0355        0.0410  \n",
      "4152           0.0545        0.0615  \n",
      "4153           0.0715        0.1100  \n",
      "4154           0.0750        0.0885  \n",
      "4155           0.0895        0.1150  \n",
      "4156           0.1070        0.1460  \n",
      "4157           0.1045        0.1550  \n",
      "4158           0.0890        0.1400  \n",
      "4159           0.1615        0.2590  \n",
      "4160           0.2170        0.3000  \n",
      "4161           0.2630        0.2845  \n",
      "4162           0.0680        0.0920  \n",
      "4163           0.0695        0.0790  \n",
      "4164           0.0635        0.0810  \n",
      "4165           0.0505        0.0880  \n",
      "4166           0.0885        0.1560  \n",
      "4167           0.1265        0.1535  \n",
      "4168           0.1230        0.1765  \n",
      "4169           0.1800        0.1815  \n",
      "4170           0.1955        0.2405  \n",
      "4171           0.1720        0.2290  \n",
      "4172           0.2390        0.2490  \n",
      "4173           0.2145        0.2605  \n",
      "4174           0.2875        0.3080  \n",
      "4175           0.2610        0.2960  \n",
      "4176           0.3765        0.4950  \n",
      "\n",
      "[4177 rows x 8 columns]\n",
      "-----------------------\n",
      "[15  7  9 ...,  9 10 12]\n"
     ]
    }
   ],
   "source": [
    "#convert to array to be passed to numpy\n",
    "\n",
    "#X = np.array(X)\n",
    "y = np.array(y).ravel()\n",
    "\n",
    "print(X)\n",
    "print(\"-----------------------\")\n",
    "print(y)"
   ]
  },
  {
   "cell_type": "code",
   "execution_count": 6,
   "metadata": {
    "collapsed": true
   },
   "outputs": [],
   "source": [
    "from sklearn.cross_validation import train_test_split \n",
    "from sklearn import linear_model\n",
    "\n",
    "X_train, X_test, y_train, y_test = train_test_split(X, y, test_size=0.1,\n",
    "                                                   random_state=10)\n",
    "\n",
    "from sklearn.preprocessing import StandardScaler\n",
    "\n",
    "scaler = StandardScaler()\n",
    "scaler.fit(X_train)\n",
    "scaler.fit(X)\n",
    "X_scaled = scaler.transform(X)\n",
    "X_train_scaled = scaler.transform(X_train)\n",
    "X_test_scaled = scaler.transform(X_test)"
   ]
  },
  {
   "cell_type": "markdown",
   "metadata": {},
   "source": [
    "Recursive feature elimination shows the cv-scores with selected numbers of features. It shows the most optimal number of features needed to achieve the highest cv-scores possible."
   ]
  },
  {
   "cell_type": "code",
   "execution_count": 19,
   "metadata": {
    "collapsed": false,
    "scrolled": true
   },
   "outputs": [
    {
     "data": {
      "text/plain": [
       "RFECV(cv=None,\n",
       "   estimator=SVR(C=1000.0, cache_size=200, coef0=0.0, degree=3, epsilon=0.1, gamma='auto',\n",
       "  kernel='linear', max_iter=-1, shrinking=True, tol=0.001, verbose=False),\n",
       "   estimator_params=None, scoring=None, step=1, verbose=0)"
      ]
     },
     "execution_count": 19,
     "metadata": {},
     "output_type": "execute_result"
    }
   ],
   "source": [
    "#Cross Validation\n",
    "#Recursive feature elimination with cv (rfecv)\n",
    "#ref: 0.16.1 p. 712\n",
    "\n",
    "from sklearn.svm import SVR\n",
    "from sklearn.cross_validation import StratifiedKFold\n",
    "from sklearn.feature_selection import RFECV\n",
    "from sklearn.datasets import make_classification\n",
    "\n",
    "svr = SVR(kernel='linear', C=1e3)\n",
    "\n",
    "rfecv = RFECV(estimator=svr)\n",
    "rfecv.fit(X_scaled, y)\n",
    "\n",
    "print(\"Optimal # of features: %d\" % rfecv.n_features_)\n",
    "\n",
    "plt.figure()\n",
    "plt.xlabel(\"Number of features selected\")\n",
    "plt.ylabel(\"Cross-validation score (nb of correct classification)\")\n",
    "plt.plot(range(1, len(rfecv.grid_scores_) + 1). rfecv.grid_scores_)\n",
    "\n",
    "#RUNNING TIME EXCESSIVELY LONG!\n"
   ]
  },
  {
   "cell_type": "code",
   "execution_count": 25,
   "metadata": {
    "collapsed": false
   },
   "outputs": [
    {
     "name": "stdout",
     "output_type": "stream",
     "text": [
      "Optimal # of features: 7\n"
     ]
    },
    {
     "data": {
      "text/plain": [
       "(0, 9)"
      ]
     },
     "execution_count": 25,
     "metadata": {},
     "output_type": "execute_result"
    },
    {
     "data": {
      "image/png": "[encoded data removed]",
      "text/plain": [
       "<matplotlib.figure.Figure at 0x203566a2668>"
      ]
     },
     "metadata": {},
     "output_type": "display_data"
    }
   ],
   "source": [
    "print(\"Optimal # of features: %d\" % rfecv.n_features_)\n",
    "\n",
    "plt.figure()\n",
    "plt.xlabel(\"Number of features selected\")\n",
    "plt.ylabel(\"Cross-validation score (nb of correct classification)\")\n",
    "plt.plot(range(1, len(rfecv.grid_scores_) + 1), rfecv.grid_scores_)\n",
    "plt.xlim(0,9)"
   ]
  },
  {
   "cell_type": "code",
   "execution_count": 22,
   "metadata": {
    "collapsed": false
   },
   "outputs": [
    {
     "name": "stdout",
     "output_type": "stream",
     "text": [
      "Score of Random Forest:  0.566099132354\n",
      "CV Score:  0.46386400605\n",
      "MSE:  4.45010382775\n"
     ]
    },
    {
     "data": {
      "text/plain": [
       "<matplotlib.text.Text at 0x1eb075290f0>"
      ]
     },
     "execution_count": 22,
     "metadata": {},
     "output_type": "execute_result"
    },
    {
     "data": {
      "image/png": "[encoded data removed]",
      "text/plain": [
       "<matplotlib.figure.Figure at 0x1eb0737ef60>"
      ]
     },
     "metadata": {},
     "output_type": "display_data"
    }
   ],
   "source": [
    "from sklearn.ensemble import RandomForestRegressor\n",
    "from sklearn.cross_validation import cross_val_score\n",
    "from sklearn.metrics import mean_squared_error\n",
    "\n",
    "forest = RandomForestRegressor(n_estimators=100, \n",
    "                               criterion='mse', max_depth=None, \n",
    "                               min_samples_split=1, \n",
    "                               random_state=0,\n",
    "                              max_features='sqrt')\n",
    "forest.fit(X_train_scaled, y_train)\n",
    "y_predict = forest.predict(X_test_scaled)\n",
    "score = forest.score(X_test_scaled, y_test)\n",
    "cv_score = cross_val_score(forest, X_scaled, y, cv=5)\n",
    "print(\"Score of Random Forest: \", score.mean())\n",
    "print(\"CV Score: \", cv_score.mean() )\n",
    "print(\"MSE: \", mean_squared_error(y_test, y_predict))\n",
    "\n",
    "fig, ax = plt.subplots()\n",
    "ax.scatter(y_test, y_predict)\n",
    "ax.plot([y.min(), y.max()], [y.min(), y.max()], 'r--', lw=2)\n",
    "ax.set_xlabel('Observed')\n",
    "ax.set_ylabel('Predicted')"
   ]
  },
  {
   "cell_type": "code",
   "execution_count": 20,
   "metadata": {
    "collapsed": false
   },
   "outputs": [
    {
     "name": "stdout",
     "output_type": "stream",
     "text": [
      "Score of Random Forest:  0.568988945946\n",
      "CV Score:  0.529268291396\n",
      "MSE:  4.42046578947\n"
     ]
    },
    {
     "data": {
      "text/plain": [
       "<matplotlib.text.Text at 0x1eb0733d860>"
      ]
     },
     "execution_count": 20,
     "metadata": {},
     "output_type": "execute_result"
    },
    {
     "data": {
      "image/png": "[encoded data removed]",
      "text/plain": [
       "<matplotlib.figure.Figure at 0x1eb07260240>"
      ]
     },
     "metadata": {},
     "output_type": "display_data"
    }
   ],
   "source": [
    "forest = RandomForestRegressor(n_estimators=100, \n",
    "                               criterion='mse', max_depth=None, \n",
    "                               min_samples_split=1, \n",
    "                               random_state=0,\n",
    "                              max_features='log2')\n",
    "forest.fit(X_train_scaled, y_train)\n",
    "y_predict = forest.predict(X_test_scaled)\n",
    "score = forest.score(X_test_scaled, y_test)\n",
    "cv_score = cross_val_score(forest, X_scaled, y, cv=3)\n",
    "print(\"Score of Random Forest: \", score.mean())\n",
    "print(\"CV Score: \", cv_score.mean() )\n",
    "print(\"MSE: \", mean_squared_error(y_test, y_predict))\n",
    "\n",
    "fig, ax = plt.subplots()\n",
    "ax.scatter(y_test, y_predict)\n",
    "ax.plot([y.min(), y.max()], [y.min(), y.max()], 'r--', lw=2)\n",
    "ax.set_xlabel('Observed')\n",
    "ax.set_ylabel('Predicted')"
   ]
  },
  {
   "cell_type": "code",
   "execution_count": 21,
   "metadata": {
    "collapsed": false
   },
   "outputs": [
    {
     "name": "stdout",
     "output_type": "stream",
     "text": [
      "Score of Random Forest:  0.557394142444\n",
      "CV Score:  0.517609785358\n",
      "MSE:  4.53938253589\n"
     ]
    },
    {
     "data": {
      "text/plain": [
       "<matplotlib.text.Text at 0x1eb074db358>"
      ]
     },
     "execution_count": 21,
     "metadata": {},
     "output_type": "execute_result"
    },
    {
     "data": {
      "image/png": "[encoded data removed]",
      "text/plain": [
       "<matplotlib.figure.Figure at 0x1eb07444f28>"
      ]
     },
     "metadata": {},
     "output_type": "display_data"
    }
   ],
   "source": [
    "forest = RandomForestRegressor(n_estimators=100, \n",
    "                               criterion='mse', max_depth=None, \n",
    "                               min_samples_split=1, \n",
    "                               random_state=0,\n",
    "                              max_features='auto')\n",
    "forest.fit(X_train_scaled, y_train)\n",
    "y_predict = forest.predict(X_test_scaled)\n",
    "score = forest.score(X_test_scaled, y_test)\n",
    "cv_score = cross_val_score(forest, X_scaled, y, cv=3)\n",
    "print(\"Score of Random Forest: \", score.mean())\n",
    "print(\"CV Score: \", cv_score.mean() )\n",
    "print(\"MSE: \", mean_squared_error(y_test, y_predict))\n",
    "\n",
    "fig, ax = plt.subplots()\n",
    "ax.scatter(y_test, y_predict)\n",
    "ax.plot([y.min(), y.max()], [y.min(), y.max()], 'r--', lw=2)\n",
    "ax.set_xlabel('Observed')\n",
    "ax.set_ylabel('Predicted')"
   ]
  },
  {
   "cell_type": "code",
   "execution_count": 25,
   "metadata": {
    "collapsed": false
   },
   "outputs": [
    {
     "data": {
      "text/plain": [
       "<matplotlib.text.Text at 0x1eb075e6d68>"
      ]
     },
     "execution_count": 25,
     "metadata": {},
     "output_type": "execute_result"
    },
    {
     "data": {
      "image/png": "[encoded data removed]",
      "text/plain": [
       "<matplotlib.figure.Figure at 0x1eb0c5570b8>"
      ]
     },
     "metadata": {},
     "output_type": "display_data"
    }
   ],
   "source": [
    "mse = []\n",
    "\n",
    "trees = np.arange(50, 700, 100)\n",
    "for t in trees:\n",
    "    forestreg = RandomForestRegressor(n_estimators=t,\n",
    "                                     max_depth = None,\n",
    "                                     max_features= 7,\n",
    "                                     oob_score=False,\n",
    "                                     random_state=326)\n",
    "    forestreg.fit(X_train_scaled, y_train)\n",
    "    y_predict = forestreg.predict(X_test_scaled)\n",
    "    mse.append(mean_squared_error(y_test, y_predict))\n",
    "    \n",
    "fig, ax = plt.subplots()\n",
    "ax.plot(trees, mse)\n",
    "ax.set_xlabel(\"Number of Trees\")\n",
    "ax.set_ylabel(\"MSE\")\n",
    "    "
   ]
  },
  {
   "cell_type": "code",
   "execution_count": 34,
   "metadata": {
    "collapsed": false
   },
   "outputs": [
    {
     "data": {
      "text/plain": [
       "<matplotlib.text.Text at 0x1eb0c57eb38>"
      ]
     },
     "execution_count": 34,
     "metadata": {},
     "output_type": "execute_result"
    },
    {
     "data": {
      "image/png": "[encoded data removed]",
      "text/plain": [
       "<matplotlib.figure.Figure at 0x1eb0e6347b8>"
      ]
     },
     "metadata": {},
     "output_type": "display_data"
    }
   ],
   "source": [
    "scores = []\n",
    "\n",
    "trees = np.arange(50, 700, 100)\n",
    "for t in trees:\n",
    "    forestreg = RandomForestRegressor(n_estimators=t,\n",
    "                                     max_depth = None,\n",
    "                                     max_features= 7,\n",
    "                                     oob_score=False,\n",
    "                                     random_state=326)\n",
    "    forestreg.fit(X_train_scaled, y_train)\n",
    "    #y_predict = forestreg.predict(X_test_scaled)\n",
    "    scores.append(forestreg.score(X_test_scaled, y_test))\n",
    "    \n",
    "fig, ax = plt.subplots()\n",
    "ax.plot(trees, scores)\n",
    "ax.set_xlabel(\"Number of Trees\")\n",
    "ax.set_ylabel(\"Score (Coefficient of determination R^2)\")\n",
    "    "
   ]
  },
  {
   "cell_type": "code",
   "execution_count": 33,
   "metadata": {
    "collapsed": false
   },
   "outputs": [
    {
     "name": "stdout",
     "output_type": "stream",
     "text": [
      "4.42539970738\n",
      "0.552912501953\n",
      "[ 50 150 250 350 450 550 650]\n"
     ]
    }
   ],
   "source": [
    "print(min(mse))\n",
    "print(min(scores))\n",
    "print(trees)"
   ]
  },
  {
   "cell_type": "code",
   "execution_count": 30,
   "metadata": {
    "collapsed": false
   },
   "outputs": [
    {
     "name": "stdout",
     "output_type": "stream",
     "text": [
      "Feature ranking:\n",
      "1. feature 7 (0.458482)\n",
      "2. feature 5 (0.158521)\n",
      "3. feature 4 (0.087520)\n",
      "4. feature 3 (0.080979)\n",
      "5. feature 6 (0.075091)\n",
      "6. feature 2 (0.058198)\n",
      "7. feature 1 (0.054255)\n",
      "8. feature 0 (0.026953)\n"
     ]
    },
    {
     "data": {
      "text/plain": [
       "(-1, 8)"
      ]
     },
     "execution_count": 30,
     "metadata": {},
     "output_type": "execute_result"
    },
    {
     "data": {
      "image/png": "[encoded data removed]",
      "text/plain": [
       "<matplotlib.figure.Figure at 0x1eb03ee4b38>"
      ]
     },
     "metadata": {},
     "output_type": "display_data"
    }
   ],
   "source": [
    "importances = forestreg.feature_importances_\n",
    "\n",
    "std = np.std([forestreg.feature_importances_ for tree in forestreg.estimators_],\n",
    "            axis=0)\n",
    "indices = np.argsort(importances)[::-1]\n",
    "\n",
    "print(\"Feature ranking:\")\n",
    "\n",
    "for f in range(8):\n",
    "    print(\"%d. feature %d (%f)\" % (f+1, indices[f], importances[indices[f]]))\n",
    "    \n",
    "plt.figure()\n",
    "plt.title(\"Feature importances\")\n",
    "plt.bar(range(8), importances[indices],\n",
    "       color=\"b\", yerr=std[indices])\n",
    "plt.xticks(range(8), indices)\n",
    "plt.xlim([-1,8])\n",
    "\n"
   ]
  },
  {
   "cell_type": "code",
   "execution_count": null,
   "metadata": {
    "collapsed": true
   },
   "outputs": [],
   "source": []
  }
 ],
 "metadata": {
  "kernelspec": {
   "display_name": "Python 3",
   "language": "python",
   "name": "python3"
  },
  "language_info": {
   "codemirror_mode": {
    "name": "ipython",
    "version": 3
   },
   "file_extension": ".py",
   "mimetype": "text/x-python",
   "name": "python",
   "nbconvert_exporter": "python",
   "pygments_lexer": "ipython3",
   "version": "3.5.2"
  }
 },
 "nbformat": 4,
 "nbformat_minor": 0
}
