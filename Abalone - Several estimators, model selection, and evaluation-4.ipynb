{
 "cells": [
  {
   "cell_type": "markdown",
   "metadata": {},
   "source": [
    "In this notebook, we will focus on several ways of selecting and evaluation the model. We will look at cross-validation, grid-search, validation curves, and some metrics to evaluate the performance of some models."
   ]
  },
  {
   "cell_type": "code",
   "execution_count": 1,
   "metadata": {
    "collapsed": true
   },
   "outputs": [],
   "source": [
    "import numpy as np\n",
    "import matplotlib.pyplot as plt\n",
    "import pandas as pd\n",
    "\n",
    "%matplotlib inline"
   ]
  },
  {
   "cell_type": "code",
   "execution_count": 2,
   "metadata": {
    "collapsed": true
   },
   "outputs": [],
   "source": [
    "from sklearn.cross_validation import train_test_split \n",
    "from sklearn.cross_validation import cross_val_predict\n",
    "\n",
    "from sklearn import linear_model"
   ]
  },
  {
   "cell_type": "code",
   "execution_count": 3,
   "metadata": {
    "collapsed": false
   },
   "outputs": [
    {
     "name": "stdout",
     "output_type": "stream",
     "text": [
      "  Sex  Length  Diameter  Height  Whole Weight  Shucked Weight  \\\n",
      "0   M   0.455     0.365   0.095        0.5140          0.2245   \n",
      "1   M   0.350     0.265   0.090        0.2255          0.0995   \n",
      "2   F   0.530     0.420   0.135        0.6770          0.2565   \n",
      "3   M   0.440     0.365   0.125        0.5160          0.2155   \n",
      "4   I   0.330     0.255   0.080        0.2050          0.0895   \n",
      "\n",
      "    Viscera Weight  Shell Weight  Ring  \n",
      "0           0.1010         0.150    15  \n",
      "1           0.0485         0.070     7  \n",
      "2           0.1415         0.210     9  \n",
      "3           0.1140         0.155    10  \n",
      "4           0.0395         0.055     7  \n",
      "     Sex  Length  Diameter  Height  Whole Weight  Shucked Weight  \\\n",
      "4172   F   0.565     0.450   0.165        0.8870          0.3700   \n",
      "4173   M   0.590     0.440   0.135        0.9660          0.4390   \n",
      "4174   M   0.600     0.475   0.205        1.1760          0.5255   \n",
      "4175   F   0.625     0.485   0.150        1.0945          0.5310   \n",
      "4176   M   0.710     0.555   0.195        1.9485          0.9455   \n",
      "\n",
      "       Viscera Weight  Shell Weight  Ring  \n",
      "4172           0.2390        0.2490    11  \n",
      "4173           0.2145        0.2605    10  \n",
      "4174           0.2875        0.3080     9  \n",
      "4175           0.2610        0.2960    10  \n",
      "4176           0.3765        0.4950    12  \n"
     ]
    }
   ],
   "source": [
    "abalone = pd.read_csv(\"abalone.data\", header=None)\n",
    "abalone.columns = ['Sex', 'Length', 'Diameter', 'Height',\n",
    "                  'Whole Weight', 'Shucked Weight', ' Viscera Weight',\n",
    "                  'Shell Weight', 'Ring']\n",
    "print(abalone.head())\n",
    "print(abalone.tail())"
   ]
  },
  {
   "cell_type": "code",
   "execution_count": 4,
   "metadata": {
    "collapsed": false,
    "scrolled": true
   },
   "outputs": [
    {
     "name": "stdout",
     "output_type": "stream",
     "text": [
      "   Sex  Length  Diameter  Height  Whole Weight  Shucked Weight  \\\n",
      "0    0   0.455     0.365   0.095        0.5140          0.2245   \n",
      "1    0   0.350     0.265   0.090        0.2255          0.0995   \n",
      "2    1   0.530     0.420   0.135        0.6770          0.2565   \n",
      "3    0   0.440     0.365   0.125        0.5160          0.2155   \n",
      "4    2   0.330     0.255   0.080        0.2050          0.0895   \n",
      "\n",
      "    Viscera Weight  Shell Weight  Ring  \n",
      "0           0.1010         0.150    15  \n",
      "1           0.0485         0.070     7  \n",
      "2           0.1415         0.210     9  \n",
      "3           0.1140         0.155    10  \n",
      "4           0.0395         0.055     7  \n"
     ]
    }
   ],
   "source": [
    "#We have to change the sex, which is a categorical value, \n",
    "#to numeric value 0 and 1\n",
    "\n",
    "abalone['Sex'].replace(['M', 'F', 'I'],[0,1,2], inplace=True)\n",
    "print(abalone.head())\n"
   ]
  },
  {
   "cell_type": "code",
   "execution_count": 5,
   "metadata": {
    "collapsed": false
   },
   "outputs": [
    {
     "name": "stdout",
     "output_type": "stream",
     "text": [
      "   Sex  Length  Diameter  Height  Whole Weight  Shucked Weight  \\\n",
      "0    0   0.455     0.365   0.095        0.5140          0.2245   \n",
      "1    0   0.350     0.265   0.090        0.2255          0.0995   \n",
      "2    1   0.530     0.420   0.135        0.6770          0.2565   \n",
      "3    0   0.440     0.365   0.125        0.5160          0.2155   \n",
      "4    2   0.330     0.255   0.080        0.2050          0.0895   \n",
      "\n",
      "    Viscera Weight  Shell Weight  \n",
      "0           0.1010         0.150  \n",
      "1           0.0485         0.070  \n",
      "2           0.1415         0.210  \n",
      "3           0.1140         0.155  \n",
      "4           0.0395         0.055  \n",
      "   Ring\n",
      "0    15\n",
      "1     7\n",
      "2     9\n",
      "3    10\n",
      "4     7\n"
     ]
    }
   ],
   "source": [
    "# Attribute and target split\n",
    "X = abalone.drop(['Ring'], axis=1)\n",
    "y = abalone[['Ring']]\n",
    "print(X.head())\n",
    "print(y.head())"
   ]
  },
  {
   "cell_type": "code",
   "execution_count": 6,
   "metadata": {
    "collapsed": false,
    "scrolled": true
   },
   "outputs": [
    {
     "name": "stdout",
     "output_type": "stream",
     "text": [
      "[[ 0.      0.455   0.365  ...,  0.2245  0.101   0.15  ]\n",
      " [ 0.      0.35    0.265  ...,  0.0995  0.0485  0.07  ]\n",
      " [ 1.      0.53    0.42   ...,  0.2565  0.1415  0.21  ]\n",
      " ..., \n",
      " [ 0.      0.6     0.475  ...,  0.5255  0.2875  0.308 ]\n",
      " [ 1.      0.625   0.485  ...,  0.531   0.261   0.296 ]\n",
      " [ 0.      0.71    0.555  ...,  0.9455  0.3765  0.495 ]]\n",
      "-----------------------\n",
      "[[15]\n",
      " [ 7]\n",
      " [ 9]\n",
      " ..., \n",
      " [ 9]\n",
      " [10]\n",
      " [12]]\n"
     ]
    }
   ],
   "source": [
    "#convert to array to be passed to numpy\n",
    "\n",
    "X = np.array(X)\n",
    "y = np.array(y)\n",
    "\n",
    "print(X)\n",
    "print(\"-----------------------\")\n",
    "print(y)"
   ]
  },
  {
   "cell_type": "code",
   "execution_count": 54,
   "metadata": {
    "collapsed": true
   },
   "outputs": [],
   "source": [
    "from sklearn.cross_validation import train_test_split \n",
    "\n",
    "y = y.ravel()\n",
    "\n",
    "X_train, X_test, y_train, y_test = train_test_split(X, y, test_size=0.1,\n",
    "                                                   random_state=0)\n",
    "\n",
    "from sklearn.preprocessing import StandardScaler\n",
    "\n",
    "scaler = StandardScaler()\n",
    "scaler.fit(X)\n",
    "X_scaled = scaler.transform(X)\n",
    "X_train_scaled = scaler.transform(X_train)\n",
    "X_test_scaled = scaler.transform(X_test)"
   ]
  },
  {
   "cell_type": "code",
   "execution_count": 7,
   "metadata": {
    "collapsed": false
   },
   "outputs": [
    {
     "data": {
      "text/plain": [
       "<matplotlib.text.Text at 0x1dd0be40160>"
      ]
     },
     "execution_count": 7,
     "metadata": {},
     "output_type": "execute_result"
    },
    {
     "data": {
      "image/png": "[encoded data removed]",
      "text/plain": [
       "<matplotlib.figure.Figure at 0x1dd08d617f0>"
      ]
     },
     "metadata": {},
     "output_type": "display_data"
    }
   ],
   "source": [
    "#Plotting cross-validated predictions\n",
    "#reference: user-guide-0.17 p. 487\n",
    "\n",
    "lr = linear_model.LinearRegression()\n",
    "y = y.ravel()\n",
    "y_predicted = cross_val_predict(lr, X, y, cv=10)\n",
    "\n",
    "fig, ax = plt.subplots()\n",
    "ax.scatter(y, y_predicted)\n",
    "ax.plot([y.min(), y.max()], [y.min(), y.max()], 'r--', lw=5)\n",
    "ax.set_xlabel('Observed')\n",
    "ax.set_ylabel('Predicted')"
   ]
  },
  {
   "cell_type": "code",
   "execution_count": 39,
   "metadata": {
    "collapsed": false
   },
   "outputs": [
    {
     "data": {
      "text/plain": [
       "<matplotlib.text.Text at 0x1dd0d4104e0>"
      ]
     },
     "execution_count": 39,
     "metadata": {},
     "output_type": "execute_result"
    },
    {
     "data": {
      "image/png": "[encoded data removed]",
      "text/plain": [
       "<matplotlib.figure.Figure at 0x1dd0d795780>"
      ]
     },
     "metadata": {},
     "output_type": "display_data"
    }
   ],
   "source": [
    "#PIPELINE ANOVA SVM\n",
    "#Ref: user guide 0.1.7 p. 757\n",
    "\n",
    "from sklearn import svm\n",
    "from sklearn.feature_selection import SelectKBest, f_regression\n",
    "from sklearn.pipeline import make_pipeline\n",
    "\n",
    "#Anova filter, take 3 best ranked features\n",
    "anova_filter = SelectKBest(f_regression, k=4)\n",
    "clf = svm.SVR(kernel='rbf')\n",
    "\n",
    "pipeline = make_pipeline(anova_filter, clf)\n",
    "pipeline.fit(X_train_scaled,y_train)\n",
    "pipeline_predicted= pipeline.predict(X_test_scaled)\n",
    "\n",
    "fig, ax = plt.subplots()\n",
    "ax.scatter(y_test, pipeline_predicted)\n",
    "ax.plot([y.min(), y.max()], [y.min(), y.max()], 'r--', lw=5)\n",
    "ax.set_xlabel('Observed')\n",
    "ax.set_ylabel('Pipeline prediction')"
   ]
  },
  {
   "cell_type": "code",
   "execution_count": 49,
   "metadata": {
    "collapsed": false
   },
   "outputs": [
    {
     "name": "stdout",
     "output_type": "stream",
     "text": [
      "#Tuning hyper-parameters for mean_absolute_error\n",
      "--------------------------\n",
      "Best parameters set found on development set:\n",
      "{'C': 1000, 'kernel': 'rbf', 'gamma': 0.001}\n",
      "--------------------------\n",
      "#Tuning hyper-parameters for mean_squared_error\n",
      "--------------------------\n",
      "Best parameters set found on development set:\n",
      "{'C': 1000, 'kernel': 'rbf', 'gamma': 0.001}\n",
      "--------------------------\n",
      "#Tuning hyper-parameters for r2\n",
      "--------------------------\n",
      "Best parameters set found on development set:\n",
      "{'C': 1000, 'kernel': 'rbf', 'gamma': 0.001}\n",
      "--------------------------\n"
     ]
    }
   ],
   "source": [
    "#Grid Search: searching for estimator parameters\n",
    "#grid searches can find parameters that are not directly learnt by the estimators\n",
    "\n",
    "#Parameter estimation using grid search with cross-validation\n",
    "#ref: 0.16.1 p. 840\n",
    "#Abalone dataset is not a good example to demonstrate the usage of precision\n",
    "#and recall. Regardless, we can see the steps in working on GridSearch.\n",
    "\n",
    "from sklearn.cross_validation import train_test_split\n",
    "from sklearn.grid_search import GridSearchCV\n",
    "from sklearn.metrics import classification_report\n",
    "from sklearn.svm import SVR\n",
    "\n",
    "#X_train, X_test, y_train, y_test = train_test_split(X, y, test_size=0.5,\n",
    "#                                                   random_state=0)\n",
    "\n",
    "tuned_parameters = [{'kernel':['rbf'], 'gamma': [1e-3, 1e-4],\n",
    "                   'C':[1, 10, 100, 1000]},\n",
    "                   {'kernel': ['linear'], 'C':[1, 10, 100, 100]}]\n",
    "\n",
    "scores = ['mean_absolute_error', 'mean_squared_error', 'r2']\n",
    "\n",
    "#for scoring guides, refer to p. 320\n",
    "\n",
    "for score in scores:\n",
    "    print(\"#Tuning hyper-parameters for %s\" % score)\n",
    "    \n",
    "    clf = GridSearchCV(SVR(), tuned_parameters, cv=5,\n",
    "                       scoring = score)\n",
    "#                       scoring = '%s_weighted' % score)\n",
    "    \n",
    "    clf.fit(X_train_scaled, y_train)\n",
    "    \n",
    "    print(\"--------------------------\")\n",
    "    print(\"Best parameters set found on development set:\")\n",
    "    print(clf.best_params_)\n",
    "    print(\"--------------------------\")\n",
    "    \n",
    "    "
   ]
  },
  {
   "cell_type": "code",
   "execution_count": 50,
   "metadata": {
    "collapsed": false
   },
   "outputs": [
    {
     "name": "stdout",
     "output_type": "stream",
     "text": [
      "Grid scores on development set:\n",
      "0.345 (+/-0.037) for {'C': 1, 'kernel': 'rbf', 'gamma': 0.001}\n",
      "0.225 (+/-0.033) for {'C': 1, 'kernel': 'rbf', 'gamma': 0.0001}\n",
      "0.469 (+/-0.036) for {'C': 10, 'kernel': 'rbf', 'gamma': 0.001}\n",
      "0.341 (+/-0.036) for {'C': 10, 'kernel': 'rbf', 'gamma': 0.0001}\n",
      "0.523 (+/-0.042) for {'C': 100, 'kernel': 'rbf', 'gamma': 0.001}\n",
      "0.459 (+/-0.040) for {'C': 100, 'kernel': 'rbf', 'gamma': 0.0001}\n",
      "0.540 (+/-0.053) for {'C': 1000, 'kernel': 'rbf', 'gamma': 0.001}\n",
      "0.510 (+/-0.043) for {'C': 1000, 'kernel': 'rbf', 'gamma': 0.0001}\n",
      "0.505 (+/-0.051) for {'C': 1, 'kernel': 'linear'}\n",
      "0.508 (+/-0.052) for {'C': 10, 'kernel': 'linear'}\n",
      "0.508 (+/-0.053) for {'C': 100, 'kernel': 'linear'}\n",
      "0.508 (+/-0.053) for {'C': 100, 'kernel': 'linear'}\n"
     ]
    }
   ],
   "source": [
    "print(\"Grid scores on development set:\")\n",
    "\n",
    "for params, mean_score, scores in clf.grid_scores_:\n",
    "    print(\"%0.3f (+/-%0.03f) for %r\"\n",
    "         % (mean_score, scores.std() * 2, params))"
   ]
  },
  {
   "cell_type": "code",
   "execution_count": null,
   "metadata": {
    "collapsed": true
   },
   "outputs": [],
   "source": [
    "#other regularization models\n",
    "#linear_model.ElasticNetCV\n",
    "#linear_model.LarsCV\n",
    "#linear_model.LassoCV\n",
    "#linear_model.LassoLarsCV\n",
    "#linear_model.LogisticRegressionCV\n",
    "#linear_model.MultiTaskElasticNetCV\n",
    "#linear_model.MultiTaskLassoCV\n",
    "#linear_model.OrthogonalMatchingPursuitCV\n",
    "#linear_model.RidgeCV\n",
    "#linear_model.RidgeClassifierCV\n",
    "\n",
    "#ref: user guide 0.16.1 p. 238\n",
    "\n",
    "#for random forest models, refer to p. 279."
   ]
  },
  {
   "cell_type": "code",
   "execution_count": 91,
   "metadata": {
    "collapsed": false
   },
   "outputs": [],
   "source": [
    "#METRICS FOR PERFORMANCE EVALUATION\n",
    "\n",
    "ridge = linear_model.Ridge(alpha = 0.0001, fit_intercept=True)\n",
    "ridgecv = linear_model.RidgeCV(alphas = [1, 0.1, 0.001, 0.0001], fit_intercept=True,\n",
    "                               store_cv_values=True)\n",
    "enet = linear_model.ElasticNet(l1_ratio=0.5)\n",
    "enetcv = linear_model.ElasticNetCV(l1_ratio=0.5, n_alphas = 100)\n",
    "lars = linear_model.Lars(fit_intercept=True)\n",
    "larscv = linear_model.LarsCV(fit_intercept=True)\n",
    "\n",
    "\n"
   ]
  },
  {
   "cell_type": "code",
   "execution_count": 92,
   "metadata": {
    "collapsed": false
   },
   "outputs": [
    {
     "data": {
      "text/plain": [
       "Ridge(alpha=0.0001, copy_X=True, fit_intercept=True, max_iter=None,\n",
       "   normalize=False, random_state=None, solver='auto', tol=0.001)"
      ]
     },
     "execution_count": 92,
     "metadata": {},
     "output_type": "execute_result"
    }
   ],
   "source": [
    "ridge.fit(X_train_scaled, y_train).fit(X_test_scaled, y_test)"
   ]
  },
  {
   "cell_type": "code",
   "execution_count": 93,
   "metadata": {
    "collapsed": false
   },
   "outputs": [
    {
     "data": {
      "text/plain": [
       "RidgeCV(alphas=[1, 0.1, 0.001, 0.0001], cv=None, fit_intercept=True,\n",
       "    gcv_mode=None, normalize=False, scoring=None, store_cv_values=True)"
      ]
     },
     "execution_count": 93,
     "metadata": {},
     "output_type": "execute_result"
    }
   ],
   "source": [
    "ridgecv.fit(X_scaled,y)"
   ]
  },
  {
   "cell_type": "code",
   "execution_count": 94,
   "metadata": {
    "collapsed": false
   },
   "outputs": [
    {
     "data": {
      "text/plain": [
       "ElasticNet(alpha=1.0, copy_X=True, fit_intercept=True, l1_ratio=0.5,\n",
       "      max_iter=1000, normalize=False, positive=False, precompute=False,\n",
       "      random_state=None, selection='cyclic', tol=0.0001, warm_start=False)"
      ]
     },
     "execution_count": 94,
     "metadata": {},
     "output_type": "execute_result"
    }
   ],
   "source": [
    "enet.fit(X_train_scaled, y_train).fit(X_test_scaled, y_test)"
   ]
  },
  {
   "cell_type": "code",
   "execution_count": 95,
   "metadata": {
    "collapsed": false
   },
   "outputs": [
    {
     "data": {
      "text/plain": [
       "ElasticNetCV(alphas=None, copy_X=True, cv=None, eps=0.001, fit_intercept=True,\n",
       "       l1_ratio=0.5, max_iter=1000, n_alphas=100, n_jobs=1,\n",
       "       normalize=False, positive=False, precompute='auto',\n",
       "       random_state=None, selection='cyclic', tol=0.0001, verbose=0)"
      ]
     },
     "execution_count": 95,
     "metadata": {},
     "output_type": "execute_result"
    }
   ],
   "source": [
    "enetcv.fit(X_scaled,y)"
   ]
  },
  {
   "cell_type": "code",
   "execution_count": 96,
   "metadata": {
    "collapsed": false
   },
   "outputs": [
    {
     "data": {
      "text/plain": [
       "Lars(copy_X=True, eps=2.2204460492503131e-16, fit_intercept=True,\n",
       "   fit_path=True, n_nonzero_coefs=500, normalize=True, positive=False,\n",
       "   precompute='auto', verbose=False)"
      ]
     },
     "execution_count": 96,
     "metadata": {},
     "output_type": "execute_result"
    }
   ],
   "source": [
    "lars.fit(X_train_scaled, y_train).fit(X_test_scaled, y_test)"
   ]
  },
  {
   "cell_type": "code",
   "execution_count": 97,
   "metadata": {
    "collapsed": false
   },
   "outputs": [
    {
     "data": {
      "text/plain": [
       "LarsCV(copy_X=True, cv=None, eps=2.2204460492503131e-16, fit_intercept=True,\n",
       "    max_iter=500, max_n_alphas=1000, n_jobs=1, normalize=True,\n",
       "    positive=False, precompute='auto', verbose=False)"
      ]
     },
     "execution_count": 97,
     "metadata": {},
     "output_type": "execute_result"
    }
   ],
   "source": [
    "larscv.fit(X_scaled,y)"
   ]
  },
  {
   "cell_type": "code",
   "execution_count": 99,
   "metadata": {
    "collapsed": false
   },
   "outputs": [
    {
     "name": "stdout",
     "output_type": "stream",
     "text": [
      "Ridge scaled score:  0.184463667896\n",
      "Enet scaled score:  0.0448613216566\n",
      "Lars scaled score:  0.184465046162\n",
      "\n",
      "Ridge score:  0.57970583368\n",
      "Enet score:  0.386924943388\n",
      "Lars score:  0.579705833686\n",
      "\n",
      "EnetCV:\n",
      "alpha: 0.00404632515448\n",
      "l1 ratio:  0.5\n",
      "MSE:  6.33273986352\n",
      "number of iteration:  424\n",
      "score:  0.549840298082\n",
      "\n",
      "RidgeCV:\n",
      "alpha: 1.0\n",
      "MSE:  4.93691938284\n",
      "score:  0.548554514891\n",
      "\n",
      "LarsCV:\n",
      "alpha: 0.0\n",
      "MSE:  6.57752504406\n",
      "number of iteration:  8\n",
      "score:  0.549840298082\n",
      "\n"
     ]
    }
   ],
   "source": [
    "print(\"Ridge scaled score: \" , ridge.score(X_test, y_test)) \n",
    "print(\"Enet scaled score: \" , enet.score(X_test, y_test)) \n",
    "print(\"Lars scaled score: \" , lars.score(X_test, y_test)) \n",
    "print()\n",
    "\n",
    "print(\"Ridge score: \" , ridge.score(X_test_scaled, y_test)) \n",
    "print(\"Enet score: \" , enet.score(X_test_scaled, y_test)) \n",
    "print(\"Lars score: \" , lars.score(X_test_scaled, y_test)) \n",
    "print()\n",
    "\n",
    "print(\"EnetCV:\")\n",
    "print(\"alpha:\", enetcv.alpha_)\n",
    "print(\"l1 ratio: \", enetcv.l1_ratio_)\n",
    "print(\"MSE: \", enetcv.mse_path_.mean())\n",
    "print(\"number of iteration: \", enetcv.n_iter_)\n",
    "print(\"score: \", enetcv.score(X_test_scaled, y_test))\n",
    "print()\n",
    "\n",
    "print(\"RidgeCV:\")\n",
    "print(\"alpha:\", ridgecv.alpha_)\n",
    "print(\"MSE: \", ridgecv.cv_values_.mean())\n",
    "print(\"score: \", ridgecv.score(X_test_scaled, y_test))\n",
    "print()\n",
    "\n",
    "print(\"LarsCV:\")\n",
    "print(\"alpha:\", larscv.alpha_)\n",
    "print(\"MSE: \", larscv.cv_mse_path_.mean())\n",
    "print(\"number of iteration: \", larscv.n_iter_)\n",
    "print(\"score: \", enetcv.score(X_test_scaled, y_test))\n",
    "print()\n"
   ]
  },
  {
   "cell_type": "code",
   "execution_count": 107,
   "metadata": {
    "collapsed": false
   },
   "outputs": [
    {
     "name": "stdout",
     "output_type": "stream",
     "text": [
      "SVR Score:  0.578522214308\n",
      "Linear SVR Score:  0.519465598512\n",
      "NuSVR Score:  0.579627443473\n"
     ]
    }
   ],
   "source": [
    "from sklearn.svm import SVR\n",
    "from sklearn.svm import LinearSVR\n",
    "from sklearn.svm import NuSVR\n",
    "\n",
    "svr = SVR(kernel='rbf')\n",
    "svr.fit(X_train_scaled, y_train)\n",
    "print(\"SVR Score: \" , svr.score(X_test_scaled, y_test))\n",
    "\n",
    "lin_svr = LinearSVR()\n",
    "lin_svr.fit(X_train_scaled, y_train)\n",
    "print(\"Linear SVR Score: \" , lin_svr.score(X_test_scaled, y_test))\n",
    "\n",
    "nu_svr = NuSVR()\n",
    "nu_svr.fit(X_train_scaled, y_train)\n",
    "print(\"NuSVR Score: \" , nu_svr.score(X_test_scaled, y_test))"
   ]
  },
  {
   "cell_type": "code",
   "execution_count": 114,
   "metadata": {
    "collapsed": true
   },
   "outputs": [],
   "source": [
    "#Validation curve using SVR\n",
    "\n",
    "from sklearn.learning_curve import validation_curve\n",
    "\n",
    "param_range = np.logspace(1, 10, 100)\n",
    "train_scores, test_scores = validation_curve(SVR(), X_scaled, y, param_name=\"gamma\",\n",
    "                                            param_range=param_range, cv=10, \n",
    "                                            scoring=\"mean_squared_error\", n_jobs=1)"
   ]
  },
  {
   "cell_type": "code",
   "execution_count": 112,
   "metadata": {
    "collapsed": false
   },
   "outputs": [
    {
     "data": {
      "image/png": "[encoded data removed]",
      "text/plain": [
       "<matplotlib.figure.Figure at 0x1dd12a27c50>"
      ]
     },
     "metadata": {},
     "output_type": "display_data"
    }
   ],
   "source": [
    "train_scores_mean = np.mean(train_scores, axis=1)\n",
    "train_scores_std = np.std(train_scores, axis=1)\n",
    "test_scores_mean = np.mean(test_scores, axis=1)\n",
    "test_scores_std = np.std(test_scores, axis=1)\n",
    "\n",
    "plt.title(\"Validation Curve with SVM\")\n",
    "plt.xlabel(\"$\\gamma$\")\n",
    "plt.ylabel(\"Score\")\n",
    "#plt.ylim(0.0, 1.1)\n",
    "plt.semilogx(param_range, train_scores_mean, label=\"Training score\", color=\"r\")\n",
    "plt.fill_between(param_range, train_scores_mean - train_scores_std,\n",
    "                train_scores_mean + train_scores_std, alpha = 0.2, color=\"r\")\n",
    "plt.semilogx(param_range, test_scores_mean, label=\"CV score\", color=\"g\")\n",
    "plt.fill_between(param_range, test_scores_mean - test_scores_std,\n",
    "                test_scores_mean + test_scores_std, alpha = 0.2, color=\"g\")\n",
    "plt.legend(loc=\"best\")\n",
    "plt.show()\n"
   ]
  },
  {
   "cell_type": "code",
   "execution_count": null,
   "metadata": {
    "collapsed": true
   },
   "outputs": [],
   "source": [
    "#Model evaluation: Regression metrics\n",
    "#p. 335\n",
    "\n",
    "#explained variance score\n",
    "#MSE sklearn.metrics.mean_squared_error\n",
    "#MAE sklearn.metrics.mean_absolute_erroe\n",
    "#Median Absolute error sklearn.metrics.median_absolute_error\n",
    "#R2 sklearn.metrics.r2_score\n",
    "\n"
   ]
  },
  {
   "cell_type": "code",
   "execution_count": 52,
   "metadata": {
    "collapsed": false
   },
   "outputs": [
    {
     "name": "stdout",
     "output_type": "stream",
     "text": [
      "Optimal regularization parameter (alpha) : 0.00556881399095\n"
     ]
    }
   ],
   "source": [
    "#TRAIN VS TEST ERROR\n",
    "\n",
    "#Train error vs test error using ElasticNet regression model\n",
    "#performance measurement using R^2 (variance)\n",
    "#ref: 0.16.1 p. 842\n",
    "\n",
    "from sklearn import linear_model\n",
    "\n",
    "alphas = np.logspace(-5, 1, 60)\n",
    "enet = linear_model.ElasticNet(l1_ratio=0.5)\n",
    "train_errors = list()\n",
    "test_errors = list()\n",
    "for a in alphas:\n",
    "    enet.set_params(alpha=a)\n",
    "    enet.fit(X_train_scaled, y_train)\n",
    "    train_errors.append(enet.score(X_train_scaled, y_train))\n",
    "    test_errors.append(enet.score(X_test_scaled, y_test))\n",
    "    \n",
    "i_alpha_optim = np.argmax(test_errors)\n",
    "alpha_optim = alphas[i_alpha_optim]\n",
    "print(\"Optimal regularization parameter (alpha) : %s\" % alpha_optim)"
   ]
  },
  {
   "cell_type": "code",
   "execution_count": 57,
   "metadata": {
    "collapsed": false
   },
   "outputs": [
    {
     "name": "stdout",
     "output_type": "stream",
     "text": [
      "[-0.32374596  0.          1.0539635   0.4763327   2.84015446 -3.68566726\n",
      " -0.71232266  1.71407132]\n",
      "mean:  0.170348263033\n"
     ]
    }
   ],
   "source": [
    "#estimate the coef_ on full data with optimal regularization parameter \n",
    "#we just arrived.\n",
    "\n",
    "enet.set_params(alpha=alpha_optim)\n",
    "coef_ = enet.fit(X_scaled, y).coef_\n",
    "print(coef_)\n",
    "print(\"mean: \" , coef_.mean())"
   ]
  },
  {
   "cell_type": "code",
   "execution_count": 58,
   "metadata": {
    "collapsed": false
   },
   "outputs": [
    {
     "data": {
      "text/plain": [
       "<matplotlib.text.Text at 0x1dd10a3b7b8>"
      ]
     },
     "execution_count": 58,
     "metadata": {},
     "output_type": "execute_result"
    },
    {
     "data": {
      "image/png": "[encoded data removed]",
      "text/plain": [
       "<matplotlib.figure.Figure at 0x1dd10a32ba8>"
      ]
     },
     "metadata": {},
     "output_type": "display_data"
    }
   ],
   "source": [
    "plt.subplot(2,1,1)\n",
    "plt.semilogx(alphas, train_errors, label='Train')\n",
    "plt.semilogx(alphas, test_errors, label='Test')\n",
    "plt.vlines(alpha_optim, plt.ylim(), np.max(test_errors), color='k',\n",
    "          linewidth=3, label='Optimum on test')\n",
    "plt.legend(loc='best')\n",
    "plt.ylim([0, 1.2])\n",
    "plt.xlabel('Regularization parameter')\n",
    "plt.ylabel('Performance')"
   ]
  },
  {
   "cell_type": "code",
   "execution_count": null,
   "metadata": {
    "collapsed": true
   },
   "outputs": [],
   "source": []
  },
  {
   "cell_type": "code",
   "execution_count": null,
   "metadata": {
    "collapsed": false
   },
   "outputs": [],
   "source": []
  },
  {
   "cell_type": "code",
   "execution_count": null,
   "metadata": {
    "collapsed": true
   },
   "outputs": [],
   "source": []
  }
 ],
 "metadata": {
  "kernelspec": {
   "display_name": "Python 3",
   "language": "python",
   "name": "python3"
  },
  "language_info": {
   "codemirror_mode": {
    "name": "ipython",
    "version": 3
   },
   "file_extension": ".py",
   "mimetype": "text/x-python",
   "name": "python",
   "nbconvert_exporter": "python",
   "pygments_lexer": "ipython3",
   "version": "3.5.2"
  }
 },
 "nbformat": 4,
 "nbformat_minor": 0
}
